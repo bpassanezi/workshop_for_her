{
 "cells": [
  {
   "cell_type": "markdown",
   "metadata": {
    "colab_type": "text",
    "id": "legJsvbWB5QU"
   },
   "source": [
    "### Importando a biblioteca e o dataset\n",
    "\n"
   ]
  },
  {
   "cell_type": "markdown",
   "metadata": {
    "colab_type": "text",
    "id": "twHLWxVXE4k4"
   },
   "source": [
    "Importe a biblioteca pandas com o nome \"pd\"."
   ]
  },
  {
   "cell_type": "code",
   "execution_count": 4,
   "metadata": {
    "colab": {},
    "colab_type": "code",
    "id": "m0qq82CZE4k5"
   },
   "outputs": [],
   "source": [
    "import pandas as pd"
   ]
  },
  {
   "cell_type": "markdown",
   "metadata": {
    "colab_type": "text",
    "id": "KTRwzs5wBjPa"
   },
   "source": [
    "\n",
    "Importe o dataset da pink tax , será nossa base de dados para trabalho."
   ]
  },
  {
   "cell_type": "code",
   "execution_count": 5,
   "metadata": {
    "colab": {},
    "colab_type": "code",
    "id": "ihr_EkYuBlaf"
   },
   "outputs": [],
   "source": [
    "data = pd.read_csv('pink_tax.csv', header = 0, index_col = 0) "
   ]
  },
  {
   "cell_type": "markdown",
   "metadata": {
    "colab_type": "text",
    "id": "K9eMLPrhCD23"
   },
   "source": [
    "### Primeiro contato com os dados"
   ]
  },
  {
   "cell_type": "markdown",
   "metadata": {
    "colab_type": "text",
    "id": "gcXkN39aE4k-"
   },
   "source": [
    "Utilize a função head() para visualizar os primeiros itens do seu dataset. O que acontece se você colocar algum número dentro do parenteses? "
   ]
  },
  {
   "cell_type": "code",
   "execution_count": 6,
   "metadata": {
    "colab": {
     "base_uri": "https://localhost:8080/",
     "height": 202
    },
    "colab_type": "code",
    "executionInfo": {
     "elapsed": 742,
     "status": "ok",
     "timestamp": 1540306414541,
     "user": {
      "displayName": "Beatriz Passanezi",
      "photoUrl": "",
      "userId": "05632469906862343182"
     },
     "user_tz": 180
    },
    "id": "OGidMDWFE4k_",
    "outputId": "1ddd496f-4154-4973-f3dd-3f251fe354d2"
   },
   "outputs": [
    {
     "data": {
      "text/html": [
       "<div>\n",
       "<style scoped>\n",
       "    .dataframe tbody tr th:only-of-type {\n",
       "        vertical-align: middle;\n",
       "    }\n",
       "\n",
       "    .dataframe tbody tr th {\n",
       "        vertical-align: top;\n",
       "    }\n",
       "\n",
       "    .dataframe thead th {\n",
       "        text-align: right;\n",
       "    }\n",
       "</style>\n",
       "<table border=\"1\" class=\"dataframe\">\n",
       "  <thead>\n",
       "    <tr style=\"text-align: right;\">\n",
       "      <th></th>\n",
       "      <th>Store</th>\n",
       "      <th>Category</th>\n",
       "      <th>Item Type</th>\n",
       "      <th>Name (on Website)</th>\n",
       "      <th>Gender</th>\n",
       "      <th>Price</th>\n",
       "    </tr>\n",
       "  </thead>\n",
       "  <tbody>\n",
       "    <tr>\n",
       "      <th>0</th>\n",
       "      <td>Carter's</td>\n",
       "      <td>Kids</td>\n",
       "      <td>Baby Jeans</td>\n",
       "      <td>5-Pocket Embellished Skinny Jeans</td>\n",
       "      <td>F</td>\n",
       "      <td>28.0</td>\n",
       "    </tr>\n",
       "    <tr>\n",
       "      <th>1</th>\n",
       "      <td>Carter's</td>\n",
       "      <td>Kids</td>\n",
       "      <td>Baby Jeans</td>\n",
       "      <td>5-Pocket Skinny Jeans</td>\n",
       "      <td>M</td>\n",
       "      <td>14.4</td>\n",
       "    </tr>\n",
       "    <tr>\n",
       "      <th>2</th>\n",
       "      <td>Carter's</td>\n",
       "      <td>Kids</td>\n",
       "      <td>Baby Jeans</td>\n",
       "      <td>Printed French Terry Pants</td>\n",
       "      <td>F</td>\n",
       "      <td>8.0</td>\n",
       "    </tr>\n",
       "    <tr>\n",
       "      <th>3</th>\n",
       "      <td>Carter's</td>\n",
       "      <td>Kids</td>\n",
       "      <td>Baby Jeans</td>\n",
       "      <td>French Terry Pants</td>\n",
       "      <td>M</td>\n",
       "      <td>8.0</td>\n",
       "    </tr>\n",
       "    <tr>\n",
       "      <th>4</th>\n",
       "      <td>Carter's</td>\n",
       "      <td>Kids</td>\n",
       "      <td>Baby Shirts</td>\n",
       "      <td>Printed Tee</td>\n",
       "      <td>F</td>\n",
       "      <td>5.0</td>\n",
       "    </tr>\n",
       "  </tbody>\n",
       "</table>\n",
       "</div>"
      ],
      "text/plain": [
       "      Store Category    Item Type                  Name (on Website) Gender  \\\n",
       "0  Carter's     Kids   Baby Jeans  5-Pocket Embellished Skinny Jeans      F   \n",
       "1  Carter's     Kids   Baby Jeans              5-Pocket Skinny Jeans      M   \n",
       "2  Carter's     Kids   Baby Jeans         Printed French Terry Pants      F   \n",
       "3  Carter's     Kids   Baby Jeans                 French Terry Pants      M   \n",
       "4  Carter's     Kids  Baby Shirts                        Printed Tee      F   \n",
       "\n",
       "   Price  \n",
       "0   28.0  \n",
       "1   14.4  \n",
       "2    8.0  \n",
       "3    8.0  \n",
       "4    5.0  "
      ]
     },
     "execution_count": 6,
     "metadata": {},
     "output_type": "execute_result"
    }
   ],
   "source": [
    "data.head()"
   ]
  },
  {
   "cell_type": "markdown",
   "metadata": {
    "colab_type": "text",
    "id": "805TzcAoE4lG"
   },
   "source": [
    "\n",
    "Utilize a função info(), quais informações consegue obter com ela? Como é seu dataset?"
   ]
  },
  {
   "cell_type": "code",
   "execution_count": 7,
   "metadata": {
    "colab": {
     "base_uri": "https://localhost:8080/",
     "height": 208
    },
    "colab_type": "code",
    "executionInfo": {
     "elapsed": 557,
     "status": "ok",
     "timestamp": 1539809077415,
     "user": {
      "displayName": "Beatriz Passanezi",
      "photoUrl": "",
      "userId": "05632469906862343182"
     },
     "user_tz": 180
    },
    "id": "IyLnfxOME4lH",
    "outputId": "f78d4871-4663-4616-9e15-0d6f55e4d0dd"
   },
   "outputs": [
    {
     "name": "stdout",
     "output_type": "stream",
     "text": [
      "<class 'pandas.core.frame.DataFrame'>\n",
      "Int64Index: 682 entries, 0 to 734\n",
      "Data columns (total 6 columns):\n",
      "Store                682 non-null object\n",
      "Category             682 non-null object\n",
      "Item Type            682 non-null object\n",
      "Name (on Website)    682 non-null object\n",
      "Gender               682 non-null object\n",
      "Price                682 non-null float64\n",
      "dtypes: float64(1), object(5)\n",
      "memory usage: 37.3+ KB\n"
     ]
    }
   ],
   "source": [
    "data.info()"
   ]
  },
  {
   "cell_type": "markdown",
   "metadata": {
    "colab_type": "text",
    "id": "EpEI3Er2CXSd"
   },
   "source": [
    "### Análise das colunas do dataframe"
   ]
  },
  {
   "cell_type": "markdown",
   "metadata": {
    "colab_type": "text",
    "id": "kgEO4zDDE4lR"
   },
   "source": [
    "Quantos valores diferentes existem em cada coluna?"
   ]
  },
  {
   "cell_type": "code",
   "execution_count": 8,
   "metadata": {
    "colab": {},
    "colab_type": "code",
    "id": "ewruuwxFE4lS",
    "outputId": "49dd9617-8d23-46e0-8d65-ab33e2c79c36"
   },
   "outputs": [
    {
     "data": {
      "text/plain": [
       "Store                 25\n",
       "Category               3\n",
       "Item Type             29\n",
       "Name (on Website)    647\n",
       "Gender                 2\n",
       "Price                218\n",
       "dtype: int64"
      ]
     },
     "execution_count": 8,
     "metadata": {},
     "output_type": "execute_result"
    }
   ],
   "source": [
    "data.nunique()"
   ]
  },
  {
   "cell_type": "markdown",
   "metadata": {
    "colab_type": "text",
    "id": "kpq0TqZ7Dekd"
   },
   "source": [
    "Quantos tipos de item diferentes aparecem no dataset? (dica: use a coluna 'Item Type')"
   ]
  },
  {
   "cell_type": "code",
   "execution_count": 9,
   "metadata": {
    "colab": {
     "base_uri": "https://localhost:8080/",
     "height": 35
    },
    "colab_type": "code",
    "executionInfo": {
     "elapsed": 590,
     "status": "ok",
     "timestamp": 1539864154650,
     "user": {
      "displayName": "Beatriz Passanezi",
      "photoUrl": "",
      "userId": "05632469906862343182"
     },
     "user_tz": 180
    },
    "id": "Js-ZL2HEDiES",
    "outputId": "e0b32fe7-195b-4bb3-eeb8-414fb926dd39"
   },
   "outputs": [
    {
     "data": {
      "text/plain": [
       "29"
      ]
     },
     "execution_count": 9,
     "metadata": {},
     "output_type": "execute_result"
    }
   ],
   "source": [
    "data['Item Type'].nunique()"
   ]
  },
  {
   "cell_type": "markdown",
   "metadata": {
    "colab_type": "text",
    "id": "T7CdWeerE4lW"
   },
   "source": [
    "Quais são esses diferentes itens que estão listados no dataset?"
   ]
  },
  {
   "cell_type": "code",
   "execution_count": 10,
   "metadata": {
    "colab": {
     "base_uri": "https://localhost:8080/",
     "height": 139
    },
    "colab_type": "code",
    "executionInfo": {
     "elapsed": 772,
     "status": "ok",
     "timestamp": 1539864051036,
     "user": {
      "displayName": "Beatriz Passanezi",
      "photoUrl": "",
      "userId": "05632469906862343182"
     },
     "user_tz": 180
    },
    "id": "FU17XTejE4lW",
    "outputId": "b4382828-4a07-4e31-8fbb-2d39132cb1b7"
   },
   "outputs": [
    {
     "data": {
      "text/plain": [
       "array(['Baby Jeans', 'Baby Shirts', 'Baby Shoes', 'Baby Sweaters',\n",
       "       \"Children's Jeans\", \"Children's Shirts\", \"Children's\\r\\nUnderwear\",\n",
       "       'Onesie', 'Toddler Shoes', 'Preschool Toys', 'Arts and Crafts',\n",
       "       'Backpacks', 'Bikes & Scooters', 'General Toys', 'Helmets & Pads',\n",
       "       'Dress Pants', 'Dress Shirt', 'Jeans', 'Shirt', 'Socks', 'Sweater',\n",
       "       'Underwear', 'Body Wash', 'Deodorant', 'Hair Care', 'Lotion',\n",
       "       'Razor', 'Razor\\r\\nCartridges', 'Shaving\\r\\nCream'], dtype=object)"
      ]
     },
     "execution_count": 10,
     "metadata": {},
     "output_type": "execute_result"
    }
   ],
   "source": [
    "data['Item Type'].unique()"
   ]
  },
  {
   "cell_type": "markdown",
   "metadata": {
    "colab_type": "text",
    "id": "l1n2Cs2xDNhi"
   },
   "source": [
    "Quantas vezes cada item diferente um aparece?"
   ]
  },
  {
   "cell_type": "code",
   "execution_count": 11,
   "metadata": {
    "colab": {
     "base_uri": "https://localhost:8080/",
     "height": 537
    },
    "colab_type": "code",
    "executionInfo": {
     "elapsed": 696,
     "status": "ok",
     "timestamp": 1539864086631,
     "user": {
      "displayName": "Beatriz Passanezi",
      "photoUrl": "",
      "userId": "05632469906862343182"
     },
     "user_tz": 180
    },
    "id": "3EbdBP0yDRtT",
    "outputId": "27addaa1-43b6-4192-fcb2-7575953b6912"
   },
   "outputs": [
    {
     "data": {
      "text/plain": [
       "Jeans                      50\n",
       "Sweater                    42\n",
       "Dress Shirt                40\n",
       "Underwear                  40\n",
       "Shirt                      40\n",
       "Dress Pants                40\n",
       "Socks                      39\n",
       "Bikes & Scooters           22\n",
       "Onesie                     20\n",
       "Razor                      20\n",
       "Deodorant                  20\n",
       "Backpacks                  20\n",
       "Shaving\\r\\nCream           20\n",
       "Baby Sweaters              20\n",
       "Baby Shirts                20\n",
       "Baby Jeans                 20\n",
       "Children's\\r\\nUnderwear    20\n",
       "Helmets & Pads             20\n",
       "General Toys               19\n",
       "Children's Shirts          19\n",
       "Baby Shoes                 19\n",
       "Children's Jeans           19\n",
       "Body Wash                  18\n",
       "Razor\\r\\nCartridges        18\n",
       "Hair Care                  16\n",
       "Preschool Toys             13\n",
       "Arts and Crafts            10\n",
       "Lotion                     10\n",
       "Toddler Shoes               8\n",
       "Name: Item Type, dtype: int64"
      ]
     },
     "execution_count": 11,
     "metadata": {},
     "output_type": "execute_result"
    }
   ],
   "source": [
    "data['Item Type'].value_counts()"
   ]
  },
  {
   "cell_type": "markdown",
   "metadata": {
    "colab_type": "text",
    "id": "CwyJKcq0D2WT"
   },
   "source": [
    "Quantas categorias diferentes há no dataset? (dica: use a coluna 'Category')"
   ]
  },
  {
   "cell_type": "code",
   "execution_count": 12,
   "metadata": {
    "colab": {
     "base_uri": "https://localhost:8080/",
     "height": 35
    },
    "colab_type": "code",
    "executionInfo": {
     "elapsed": 588,
     "status": "ok",
     "timestamp": 1539864118070,
     "user": {
      "displayName": "Beatriz Passanezi",
      "photoUrl": "",
      "userId": "05632469906862343182"
     },
     "user_tz": 180
    },
    "id": "zTcl_ykrDZb2",
    "outputId": "3f33f9e2-44ec-4fda-84d6-96ea1db7ebba"
   },
   "outputs": [
    {
     "data": {
      "text/plain": [
       "3"
      ]
     },
     "execution_count": 12,
     "metadata": {},
     "output_type": "execute_result"
    }
   ],
   "source": [
    "data['Category'].nunique()"
   ]
  },
  {
   "cell_type": "markdown",
   "metadata": {
    "colab_type": "text",
    "id": "pP9aKkQiE4la"
   },
   "source": [
    "Quais são as diferentes categorias?"
   ]
  },
  {
   "cell_type": "code",
   "execution_count": 13,
   "metadata": {
    "colab": {},
    "colab_type": "code",
    "id": "oRreG4mjE4lb",
    "outputId": "0a6d2fe3-716d-4251-e53a-77378a6e3365"
   },
   "outputs": [
    {
     "data": {
      "text/plain": [
       "array(['Kids', 'Clothes', 'Beauty'], dtype=object)"
      ]
     },
     "execution_count": 13,
     "metadata": {},
     "output_type": "execute_result"
    }
   ],
   "source": [
    "data['Category'].unique()\n"
   ]
  },
  {
   "cell_type": "markdown",
   "metadata": {
    "colab_type": "text",
    "id": "wPVE0ePWD8I9"
   },
   "source": [
    "### Seleção"
   ]
  },
  {
   "cell_type": "markdown",
   "metadata": {
    "colab_type": "text",
    "id": "cGUVFcvSE4lL"
   },
   "source": [
    "Crie uma variável com a coluna \"Price\" do dataframe."
   ]
  },
  {
   "cell_type": "code",
   "execution_count": 14,
   "metadata": {
    "colab": {},
    "colab_type": "code",
    "id": "m30UdbdWE4lM"
   },
   "outputs": [],
   "source": [
    "price = data['Price'] #seleciona como series "
   ]
  },
  {
   "cell_type": "markdown",
   "metadata": {
    "colab_type": "text",
    "id": "DktHLXGUFVzf"
   },
   "source": [
    "Selecione a 16a linha do seu dataframe. Qual é o item mostrado? Qual é o seu preço? (lembre que a contagem começa em 0)"
   ]
  },
  {
   "cell_type": "code",
   "execution_count": 15,
   "metadata": {
    "colab": {
     "base_uri": "https://localhost:8080/",
     "height": 139
    },
    "colab_type": "code",
    "executionInfo": {
     "elapsed": 565,
     "status": "ok",
     "timestamp": 1539864713035,
     "user": {
      "displayName": "Beatriz Passanezi",
      "photoUrl": "",
      "userId": "05632469906862343182"
     },
     "user_tz": 180
    },
    "id": "_Ho707A2FmVo",
    "outputId": "8f3e601d-eff7-4b74-c945-398533c69df0"
   },
   "outputs": [
    {
     "data": {
      "text/plain": [
       "Store                                Carter's\n",
       "Category                                 Kids\n",
       "Item Type                       Baby Sweaters\n",
       "Name (on Website)    Half-Zip Fleece Pullover\n",
       "Gender                                      M\n",
       "Price                                    13.2\n",
       "Name: 15, dtype: object"
      ]
     },
     "execution_count": 15,
     "metadata": {},
     "output_type": "execute_result"
    }
   ],
   "source": [
    "data.iloc[15]"
   ]
  },
  {
   "cell_type": "markdown",
   "metadata": {
    "colab_type": "text",
    "id": "t5FTWIY6E4lg"
   },
   "source": [
    "Crie duas variáveis. Uma com as entradas de itens femininos e outra com os masculinos"
   ]
  },
  {
   "cell_type": "code",
   "execution_count": 16,
   "metadata": {
    "colab": {},
    "colab_type": "code",
    "id": "mKRVlr1dE4li"
   },
   "outputs": [],
   "source": [
    "male = data[data['Gender'] == 'M'] \n",
    "female = data[data['Gender'] == 'F']"
   ]
  },
  {
   "cell_type": "markdown",
   "metadata": {
    "colab_type": "text",
    "id": "ZWIEqAIyE4ll"
   },
   "source": [
    "Crie novos dataframe agora com as colunas:\n",
    "\n",
    "*   Price\n",
    "*   Item Type\n",
    "*   Category\n",
    "\n",
    "para produtos femininos e masculinos (dica: use as variáveis já criadas acima)\n",
    "\n",
    "\n",
    "\n"
   ]
  },
  {
   "cell_type": "code",
   "execution_count": 17,
   "metadata": {
    "colab": {},
    "colab_type": "code",
    "id": "aItljRuzE4lm"
   },
   "outputs": [],
   "source": [
    "pcg_male = male[['Price', 'Category', 'Item Type'] ]\n",
    "pcg_female = female[['Price', 'Category', 'Item Type'] ]"
   ]
  },
  {
   "cell_type": "markdown",
   "metadata": {
    "colab_type": "text",
    "id": "8RkjbFRbE4lq"
   },
   "source": [
    "Calcule a média dos preços dos produtos separados por gênero e compare os dois. (dica: crie duas variáveis com esses valores \"media_masculino e media_feminino\")"
   ]
  },
  {
   "cell_type": "code",
   "execution_count": 18,
   "metadata": {
    "colab": {
     "base_uri": "https://localhost:8080/",
     "height": 52
    },
    "colab_type": "code",
    "executionInfo": {
     "elapsed": 656,
     "status": "ok",
     "timestamp": 1540307286183,
     "user": {
      "displayName": "Beatriz Passanezi",
      "photoUrl": "",
      "userId": "05632469906862343182"
     },
     "user_tz": 180
    },
    "id": "vDcI_ZdoE4ls",
    "outputId": "5250a3c7-6ecb-499b-b678-263654c9e3d1"
   },
   "outputs": [
    {
     "name": "stdout",
     "output_type": "stream",
     "text": [
      "Media de preço de produtos masculinos 29.2886842105263\n",
      "Media de preço de produtos femininos: 31.471764705882315\n"
     ]
    }
   ],
   "source": [
    "male_avg = pcg_male['Price'].mean()\n",
    "female_avg = pcg_female['Price'].mean()\n",
    "\n",
    "print(\"Media de preço de produtos masculinos\", male_avg)\n",
    "print(\"Media de preço de produtos femininos:\", female_avg)"
   ]
  },
  {
   "cell_type": "code",
   "execution_count": null,
   "metadata": {
    "colab": {},
    "colab_type": "code",
    "id": "WANziKobeA-Z"
   },
   "outputs": [],
   "source": []
  },
  {
   "cell_type": "markdown",
   "metadata": {
    "colab_type": "text",
    "id": "ZUjHMy8TeYtu"
   },
   "source": [
    "### Extra: alguns gráficos com matplotlib"
   ]
  },
  {
   "cell_type": "code",
   "execution_count": 19,
   "metadata": {
    "colab": {},
    "colab_type": "code",
    "id": "xTyvYkKvetkN"
   },
   "outputs": [],
   "source": [
    "import matplotlib.pyplot as plt\n",
    "import matplotlib.patches as mpatches"
   ]
  },
  {
   "cell_type": "markdown",
   "metadata": {
    "colab_type": "text",
    "id": "Svy8yHhteeIy"
   },
   "source": [
    "Faça um gráfico de barras com a frequência de cada tipo de item. (quantas vezes ele aparece)"
   ]
  },
  {
   "cell_type": "code",
   "execution_count": 20,
   "metadata": {
    "colab": {
     "base_uri": "https://localhost:8080/",
     "height": 431
    },
    "colab_type": "code",
    "executionInfo": {
     "elapsed": 964,
     "status": "ok",
     "timestamp": 1541787503372,
     "user": {
      "displayName": "Beatriz Passanezi",
      "photoUrl": "https://lh6.googleusercontent.com/-_Y2Tk_9I39Y/AAAAAAAAAAI/AAAAAAAAA5w/bDPbYJ4FPyA/s64/photo.jpg",
      "userId": "05632469906862343182"
     },
     "user_tz": 120
    },
    "id": "b_eoO3ggecHY",
    "outputId": "f3ad56c1-9d98-485b-82df-3b7a78742cf8"
   },
   "outputs": [
    {
     "data": {
      "text/plain": [
       "<matplotlib.axes._subplots.AxesSubplot at 0x7f961b6c9cc0>"
      ]
     },
     "execution_count": 20,
     "metadata": {},
     "output_type": "execute_result"
    },
    {
     "data": {
      "image/png": "[encoded data removed]",
      "text/plain": [
       "<Figure size 432x288 with 1 Axes>"
      ]
     },
     "metadata": {
      "needs_background": "light"
     },
     "output_type": "display_data"
    }
   ],
   "source": [
    "data['Item Type'].value_counts().plot(kind = 'bar')"
   ]
  },
  {
   "cell_type": "code",
   "execution_count": 21,
   "metadata": {
    "colab": {},
    "colab_type": "code",
    "id": "KeAnVinMgpAv"
   },
   "outputs": [],
   "source": [
    "red = mpatches.Patch(color='red', label='Feminino')\n",
    "blue = mpatches.Patch(color = 'blue', label = 'Masculino')\n"
   ]
  },
  {
   "cell_type": "code",
   "execution_count": 22,
   "metadata": {
    "colab": {},
    "colab_type": "code",
    "id": "n8aDLO_uesOY"
   },
   "outputs": [],
   "source": [
    "male_average = []\n",
    "female_average = []\n",
    "for item in data['Item Type'].unique():\n",
    "    male_average.append(data[(data['Gender'] == 'M') & (data['Item Type'] == item)].mean()[0])\n",
    "    female_average.append(data[(data['Gender'] == 'F') & (data['Item Type'] == item)].mean()[0])"
   ]
  },
  {
   "cell_type": "code",
   "execution_count": null,
   "metadata": {
    "colab": {},
    "colab_type": "code",
    "id": "34BBh-GFU23p"
   },
   "outputs": [],
   "source": []
  },
  {
   "cell_type": "code",
   "execution_count": 23,
   "metadata": {
    "colab": {},
    "colab_type": "code",
    "id": "20OP3LVqfSCo"
   },
   "outputs": [],
   "source": [
    "male_average_cat = []\n",
    "female_average_cat = []\n",
    "for item in data['Category'].unique():\n",
    "    male_average_cat.append(data[(data['Gender'] == 'M') & (data['Category'] == item)].mean()[0])\n",
    "    female_average_cat.append(data[(data['Gender'] == 'F') & (data['Category'] == item)].mean()[0])"
   ]
  },
  {
   "cell_type": "code",
   "execution_count": 24,
   "metadata": {
    "colab": {
     "base_uri": "https://localhost:8080/",
     "height": 362
    },
    "colab_type": "code",
    "executionInfo": {
     "elapsed": 1004,
     "status": "ok",
     "timestamp": 1541787547159,
     "user": {
      "displayName": "Beatriz Passanezi",
      "photoUrl": "https://lh6.googleusercontent.com/-_Y2Tk_9I39Y/AAAAAAAAAAI/AAAAAAAAA5w/bDPbYJ4FPyA/s64/photo.jpg",
      "userId": "05632469906862343182"
     },
     "user_tz": 120
    },
    "id": "jQNtVEIdeyZv",
    "outputId": "96cc412c-3cb6-4d70-cc89-38e072ec4866"
   },
   "outputs": [
    {
     "data": {
      "image/png": "[encoded data removed]",
      "text/plain": [
       "<Figure size 432x288 with 1 Axes>"
      ]
     },
     "metadata": {
      "needs_background": "light"
     },
     "output_type": "display_data"
    }
   ],
   "source": [
    "plt.plot(male_average, color = 'b')\n",
    "plt.plot(female_average, color = 'r')\n",
    "plt.title('Médias de preços dos produtos por tipo de item')\n",
    "plt.legend(handles=[red,blue])\n",
    "plt.show()"
   ]
  },
  {
   "cell_type": "code",
   "execution_count": 25,
   "metadata": {
    "colab": {
     "base_uri": "https://localhost:8080/",
     "height": 363
    },
    "colab_type": "code",
    "executionInfo": {
     "elapsed": 581,
     "status": "ok",
     "timestamp": 1540308060234,
     "user": {
      "displayName": "Beatriz Passanezi",
      "photoUrl": "",
      "userId": "05632469906862343182"
     },
     "user_tz": 180
    },
    "id": "mvOQU6TqfUez",
    "outputId": "07f01049-ee66-4ef1-83c3-a63847048def"
   },
   "outputs": [
    {
     "data": {
      "image/png": "[encoded data removed]",
      "text/plain": [
       "<Figure size 432x288 with 1 Axes>"
      ]
     },
     "metadata": {
      "needs_background": "light"
     },
     "output_type": "display_data"
    }
   ],
   "source": [
    "plt.hist(male_average_cat, color = 'b')\n",
    "plt.hist(female_average_cat, color = 'r')\n",
    "plt.title('Histograma da media de preços dos produtos por categoria')\n",
    "plt.legend(handles=[red,blue])\n",
    "plt.show()"
   ]
  },
  {
   "cell_type": "markdown",
   "metadata": {
    "colab_type": "text",
    "id": "AKxiH9eiE4lz"
   },
   "source": [
    "### Group by"
   ]
  },
  {
   "cell_type": "markdown",
   "metadata": {
    "colab_type": "text",
    "id": "Y9KRkVECbYsv"
   },
   "source": [
    "Crie um objeto de groupby para comparar os produtos por categoria e gênero. Use o .describe() para analisar esses dados. "
   ]
  },
  {
   "cell_type": "code",
   "execution_count": 27,
   "metadata": {
    "colab": {
     "base_uri": "https://localhost:8080/",
     "height": 294
    },
    "colab_type": "code",
    "executionInfo": {
     "elapsed": 701,
     "status": "ok",
     "timestamp": 1540306704846,
     "user": {
      "displayName": "Beatriz Passanezi",
      "photoUrl": "",
      "userId": "05632469906862343182"
     },
     "user_tz": 180
    },
    "id": "falS6Ht2bsVj",
    "outputId": "6312ce5d-eba2-4d6b-db31-15c6f9f4d34b"
   },
   "outputs": [
    {
     "data": {
      "text/html": [
       "<div>\n",
       "<style scoped>\n",
       "    .dataframe tbody tr th:only-of-type {\n",
       "        vertical-align: middle;\n",
       "    }\n",
       "\n",
       "    .dataframe tbody tr th {\n",
       "        vertical-align: top;\n",
       "    }\n",
       "\n",
       "    .dataframe thead tr th {\n",
       "        text-align: left;\n",
       "    }\n",
       "\n",
       "    .dataframe thead tr:last-of-type th {\n",
       "        text-align: right;\n",
       "    }\n",
       "</style>\n",
       "<table border=\"1\" class=\"dataframe\">\n",
       "  <thead>\n",
       "    <tr>\n",
       "      <th></th>\n",
       "      <th></th>\n",
       "      <th colspan=\"8\" halign=\"left\">Price</th>\n",
       "    </tr>\n",
       "    <tr>\n",
       "      <th></th>\n",
       "      <th></th>\n",
       "      <th>count</th>\n",
       "      <th>mean</th>\n",
       "      <th>std</th>\n",
       "      <th>min</th>\n",
       "      <th>25%</th>\n",
       "      <th>50%</th>\n",
       "      <th>75%</th>\n",
       "      <th>max</th>\n",
       "    </tr>\n",
       "    <tr>\n",
       "      <th>Category</th>\n",
       "      <th>Gender</th>\n",
       "      <th></th>\n",
       "      <th></th>\n",
       "      <th></th>\n",
       "      <th></th>\n",
       "      <th></th>\n",
       "      <th></th>\n",
       "      <th></th>\n",
       "      <th></th>\n",
       "    </tr>\n",
       "  </thead>\n",
       "  <tbody>\n",
       "    <tr>\n",
       "      <th rowspan=\"2\" valign=\"top\">Beauty</th>\n",
       "      <th>F</th>\n",
       "      <td>61.0</td>\n",
       "      <td>8.016066</td>\n",
       "      <td>5.593107</td>\n",
       "      <td>1.99</td>\n",
       "      <td>3.99</td>\n",
       "      <td>5.99</td>\n",
       "      <td>9.490</td>\n",
       "      <td>26.99</td>\n",
       "    </tr>\n",
       "    <tr>\n",
       "      <th>M</th>\n",
       "      <td>61.0</td>\n",
       "      <td>7.178689</td>\n",
       "      <td>4.980065</td>\n",
       "      <td>1.29</td>\n",
       "      <td>3.99</td>\n",
       "      <td>5.29</td>\n",
       "      <td>9.400</td>\n",
       "      <td>27.73</td>\n",
       "    </tr>\n",
       "    <tr>\n",
       "      <th rowspan=\"2\" valign=\"top\">Clothes</th>\n",
       "      <th>F</th>\n",
       "      <td>146.0</td>\n",
       "      <td>44.687877</td>\n",
       "      <td>38.548105</td>\n",
       "      <td>3.98</td>\n",
       "      <td>12.96</td>\n",
       "      <td>34.00</td>\n",
       "      <td>69.125</td>\n",
       "      <td>189.50</td>\n",
       "    </tr>\n",
       "    <tr>\n",
       "      <th>M</th>\n",
       "      <td>145.0</td>\n",
       "      <td>41.722069</td>\n",
       "      <td>32.729866</td>\n",
       "      <td>4.00</td>\n",
       "      <td>12.90</td>\n",
       "      <td>32.94</td>\n",
       "      <td>59.950</td>\n",
       "      <td>168.00</td>\n",
       "    </tr>\n",
       "    <tr>\n",
       "      <th rowspan=\"2\" valign=\"top\">Kids</th>\n",
       "      <th>F</th>\n",
       "      <td>133.0</td>\n",
       "      <td>27.721729</td>\n",
       "      <td>30.000206</td>\n",
       "      <td>4.99</td>\n",
       "      <td>14.99</td>\n",
       "      <td>21.95</td>\n",
       "      <td>29.950</td>\n",
       "      <td>299.99</td>\n",
       "    </tr>\n",
       "    <tr>\n",
       "      <th>M</th>\n",
       "      <td>136.0</td>\n",
       "      <td>25.949485</td>\n",
       "      <td>28.859021</td>\n",
       "      <td>4.99</td>\n",
       "      <td>14.30</td>\n",
       "      <td>19.99</td>\n",
       "      <td>28.480</td>\n",
       "      <td>289.99</td>\n",
       "    </tr>\n",
       "  </tbody>\n",
       "</table>\n",
       "</div>"
      ],
      "text/plain": [
       "                 Price                                                    \\\n",
       "                 count       mean        std   min    25%    50%     75%   \n",
       "Category Gender                                                            \n",
       "Beauty   F        61.0   8.016066   5.593107  1.99   3.99   5.99   9.490   \n",
       "         M        61.0   7.178689   4.980065  1.29   3.99   5.29   9.400   \n",
       "Clothes  F       146.0  44.687877  38.548105  3.98  12.96  34.00  69.125   \n",
       "         M       145.0  41.722069  32.729866  4.00  12.90  32.94  59.950   \n",
       "Kids     F       133.0  27.721729  30.000206  4.99  14.99  21.95  29.950   \n",
       "         M       136.0  25.949485  28.859021  4.99  14.30  19.99  28.480   \n",
       "\n",
       "                         \n",
       "                    max  \n",
       "Category Gender          \n",
       "Beauty   F        26.99  \n",
       "         M        27.73  \n",
       "Clothes  F       189.50  \n",
       "         M       168.00  \n",
       "Kids     F       299.99  \n",
       "         M       289.99  "
      ]
     },
     "execution_count": 27,
     "metadata": {},
     "output_type": "execute_result"
    }
   ],
   "source": [
    "data.groupby(['Category', 'Gender']).describe()"
   ]
  },
  {
   "cell_type": "markdown",
   "metadata": {
    "colab_type": "text",
    "id": "TpZk9zE4b-UE"
   },
   "source": [
    "Agora analise as médias média de preço por categoria e gênero. (dica: use o mesmo objeto criado acima)"
   ]
  },
  {
   "cell_type": "code",
   "execution_count": 28,
   "metadata": {
    "colab": {
     "base_uri": "https://localhost:8080/",
     "height": 263
    },
    "colab_type": "code",
    "executionInfo": {
     "elapsed": 606,
     "status": "ok",
     "timestamp": 1540306589040,
     "user": {
      "displayName": "Beatriz Passanezi",
      "photoUrl": "",
      "userId": "05632469906862343182"
     },
     "user_tz": 180
    },
    "id": "j_Ph5InrbDOf",
    "outputId": "878ba889-c79b-469b-dfc0-98b36b8de1d2"
   },
   "outputs": [
    {
     "data": {
      "text/html": [
       "<div>\n",
       "<style scoped>\n",
       "    .dataframe tbody tr th:only-of-type {\n",
       "        vertical-align: middle;\n",
       "    }\n",
       "\n",
       "    .dataframe tbody tr th {\n",
       "        vertical-align: top;\n",
       "    }\n",
       "\n",
       "    .dataframe thead th {\n",
       "        text-align: right;\n",
       "    }\n",
       "</style>\n",
       "<table border=\"1\" class=\"dataframe\">\n",
       "  <thead>\n",
       "    <tr style=\"text-align: right;\">\n",
       "      <th></th>\n",
       "      <th></th>\n",
       "      <th>Price</th>\n",
       "    </tr>\n",
       "    <tr>\n",
       "      <th>Category</th>\n",
       "      <th>Gender</th>\n",
       "      <th></th>\n",
       "    </tr>\n",
       "  </thead>\n",
       "  <tbody>\n",
       "    <tr>\n",
       "      <th rowspan=\"2\" valign=\"top\">Beauty</th>\n",
       "      <th>F</th>\n",
       "      <td>8.016066</td>\n",
       "    </tr>\n",
       "    <tr>\n",
       "      <th>M</th>\n",
       "      <td>7.178689</td>\n",
       "    </tr>\n",
       "    <tr>\n",
       "      <th rowspan=\"2\" valign=\"top\">Clothes</th>\n",
       "      <th>F</th>\n",
       "      <td>44.687877</td>\n",
       "    </tr>\n",
       "    <tr>\n",
       "      <th>M</th>\n",
       "      <td>41.722069</td>\n",
       "    </tr>\n",
       "    <tr>\n",
       "      <th rowspan=\"2\" valign=\"top\">Kids</th>\n",
       "      <th>F</th>\n",
       "      <td>27.721729</td>\n",
       "    </tr>\n",
       "    <tr>\n",
       "      <th>M</th>\n",
       "      <td>25.949485</td>\n",
       "    </tr>\n",
       "  </tbody>\n",
       "</table>\n",
       "</div>"
      ],
      "text/plain": [
       "                     Price\n",
       "Category Gender           \n",
       "Beauty   F        8.016066\n",
       "         M        7.178689\n",
       "Clothes  F       44.687877\n",
       "         M       41.722069\n",
       "Kids     F       27.721729\n",
       "         M       25.949485"
      ]
     },
     "execution_count": 28,
     "metadata": {},
     "output_type": "execute_result"
    }
   ],
   "source": [
    "data.groupby(['Category', 'Gender']).mean()"
   ]
  },
  {
   "cell_type": "markdown",
   "metadata": {
    "colab_type": "text",
    "id": "bJbzqNwpPO7g"
   },
   "source": [
    "Compare agora as médias por tipo de item e gênero."
   ]
  },
  {
   "cell_type": "code",
   "execution_count": 29,
   "metadata": {
    "colab": {
     "base_uri": "https://localhost:8080/",
     "height": 1858
    },
    "colab_type": "code",
    "executionInfo": {
     "elapsed": 701,
     "status": "ok",
     "timestamp": 1540306886887,
     "user": {
      "displayName": "Beatriz Passanezi",
      "photoUrl": "",
      "userId": "05632469906862343182"
     },
     "user_tz": 180
    },
    "id": "ZBKWU2tcccNU",
    "outputId": "960fe002-c4ec-4d4f-b188-9e348e5d507f"
   },
   "outputs": [
    {
     "data": {
      "text/html": [
       "<div>\n",
       "<style scoped>\n",
       "    .dataframe tbody tr th:only-of-type {\n",
       "        vertical-align: middle;\n",
       "    }\n",
       "\n",
       "    .dataframe tbody tr th {\n",
       "        vertical-align: top;\n",
       "    }\n",
       "\n",
       "    .dataframe thead th {\n",
       "        text-align: right;\n",
       "    }\n",
       "</style>\n",
       "<table border=\"1\" class=\"dataframe\">\n",
       "  <thead>\n",
       "    <tr style=\"text-align: right;\">\n",
       "      <th></th>\n",
       "      <th></th>\n",
       "      <th>Price</th>\n",
       "    </tr>\n",
       "    <tr>\n",
       "      <th>Item Type</th>\n",
       "      <th>Gender</th>\n",
       "      <th></th>\n",
       "    </tr>\n",
       "  </thead>\n",
       "  <tbody>\n",
       "    <tr>\n",
       "      <th rowspan=\"2\" valign=\"top\">Arts and Crafts</th>\n",
       "      <th>F</th>\n",
       "      <td>32.790000</td>\n",
       "    </tr>\n",
       "    <tr>\n",
       "      <th>M</th>\n",
       "      <td>30.590000</td>\n",
       "    </tr>\n",
       "    <tr>\n",
       "      <th rowspan=\"2\" valign=\"top\">Baby Jeans</th>\n",
       "      <th>F</th>\n",
       "      <td>18.325000</td>\n",
       "    </tr>\n",
       "    <tr>\n",
       "      <th>M</th>\n",
       "      <td>16.765000</td>\n",
       "    </tr>\n",
       "    <tr>\n",
       "      <th rowspan=\"2\" valign=\"top\">Baby Shirts</th>\n",
       "      <th>F</th>\n",
       "      <td>12.580000</td>\n",
       "    </tr>\n",
       "    <tr>\n",
       "      <th>M</th>\n",
       "      <td>12.380000</td>\n",
       "    </tr>\n",
       "    <tr>\n",
       "      <th rowspan=\"2\" valign=\"top\">Baby Shoes</th>\n",
       "      <th>F</th>\n",
       "      <td>20.690000</td>\n",
       "    </tr>\n",
       "    <tr>\n",
       "      <th>M</th>\n",
       "      <td>20.638889</td>\n",
       "    </tr>\n",
       "    <tr>\n",
       "      <th rowspan=\"2\" valign=\"top\">Baby Sweaters</th>\n",
       "      <th>F</th>\n",
       "      <td>25.416667</td>\n",
       "    </tr>\n",
       "    <tr>\n",
       "      <th>M</th>\n",
       "      <td>23.077273</td>\n",
       "    </tr>\n",
       "    <tr>\n",
       "      <th rowspan=\"2\" valign=\"top\">Backpacks</th>\n",
       "      <th>F</th>\n",
       "      <td>25.991000</td>\n",
       "    </tr>\n",
       "    <tr>\n",
       "      <th>M</th>\n",
       "      <td>25.790000</td>\n",
       "    </tr>\n",
       "    <tr>\n",
       "      <th rowspan=\"2\" valign=\"top\">Bikes &amp; Scooters</th>\n",
       "      <th>F</th>\n",
       "      <td>86.716364</td>\n",
       "    </tr>\n",
       "    <tr>\n",
       "      <th>M</th>\n",
       "      <td>81.899091</td>\n",
       "    </tr>\n",
       "    <tr>\n",
       "      <th rowspan=\"2\" valign=\"top\">Body Wash</th>\n",
       "      <th>F</th>\n",
       "      <td>5.697778</td>\n",
       "    </tr>\n",
       "    <tr>\n",
       "      <th>M</th>\n",
       "      <td>5.400000</td>\n",
       "    </tr>\n",
       "    <tr>\n",
       "      <th rowspan=\"2\" valign=\"top\">Children's\\r\\nUnderwear</th>\n",
       "      <th>F</th>\n",
       "      <td>17.670000</td>\n",
       "    </tr>\n",
       "    <tr>\n",
       "      <th>M</th>\n",
       "      <td>18.170000</td>\n",
       "    </tr>\n",
       "    <tr>\n",
       "      <th rowspan=\"2\" valign=\"top\">Children's Jeans</th>\n",
       "      <th>F</th>\n",
       "      <td>26.033333</td>\n",
       "    </tr>\n",
       "    <tr>\n",
       "      <th>M</th>\n",
       "      <td>22.830000</td>\n",
       "    </tr>\n",
       "    <tr>\n",
       "      <th rowspan=\"2\" valign=\"top\">Children's Shirts</th>\n",
       "      <th>F</th>\n",
       "      <td>16.077778</td>\n",
       "    </tr>\n",
       "    <tr>\n",
       "      <th>M</th>\n",
       "      <td>13.950000</td>\n",
       "    </tr>\n",
       "    <tr>\n",
       "      <th rowspan=\"2\" valign=\"top\">Deodorant</th>\n",
       "      <th>F</th>\n",
       "      <td>4.908000</td>\n",
       "    </tr>\n",
       "    <tr>\n",
       "      <th>M</th>\n",
       "      <td>4.750000</td>\n",
       "    </tr>\n",
       "    <tr>\n",
       "      <th rowspan=\"2\" valign=\"top\">Dress Pants</th>\n",
       "      <th>F</th>\n",
       "      <td>75.655000</td>\n",
       "    </tr>\n",
       "    <tr>\n",
       "      <th>M</th>\n",
       "      <td>71.705000</td>\n",
       "    </tr>\n",
       "    <tr>\n",
       "      <th rowspan=\"2\" valign=\"top\">Dress Shirt</th>\n",
       "      <th>F</th>\n",
       "      <td>58.107500</td>\n",
       "    </tr>\n",
       "    <tr>\n",
       "      <th>M</th>\n",
       "      <td>51.455000</td>\n",
       "    </tr>\n",
       "    <tr>\n",
       "      <th rowspan=\"2\" valign=\"top\">General Toys</th>\n",
       "      <th>F</th>\n",
       "      <td>30.547778</td>\n",
       "    </tr>\n",
       "    <tr>\n",
       "      <th>M</th>\n",
       "      <td>26.492000</td>\n",
       "    </tr>\n",
       "    <tr>\n",
       "      <th rowspan=\"2\" valign=\"top\">Hair Care</th>\n",
       "      <th>F</th>\n",
       "      <td>8.385000</td>\n",
       "    </tr>\n",
       "    <tr>\n",
       "      <th>M</th>\n",
       "      <td>5.676250</td>\n",
       "    </tr>\n",
       "    <tr>\n",
       "      <th rowspan=\"2\" valign=\"top\">Helmets &amp; Pads</th>\n",
       "      <th>F</th>\n",
       "      <td>25.790000</td>\n",
       "    </tr>\n",
       "    <tr>\n",
       "      <th>M</th>\n",
       "      <td>22.890000</td>\n",
       "    </tr>\n",
       "    <tr>\n",
       "      <th rowspan=\"2\" valign=\"top\">Jeans</th>\n",
       "      <th>F</th>\n",
       "      <td>62.752400</td>\n",
       "    </tr>\n",
       "    <tr>\n",
       "      <th>M</th>\n",
       "      <td>57.092400</td>\n",
       "    </tr>\n",
       "    <tr>\n",
       "      <th rowspan=\"2\" valign=\"top\">Lotion</th>\n",
       "      <th>F</th>\n",
       "      <td>8.250000</td>\n",
       "    </tr>\n",
       "    <tr>\n",
       "      <th>M</th>\n",
       "      <td>7.430000</td>\n",
       "    </tr>\n",
       "    <tr>\n",
       "      <th rowspan=\"2\" valign=\"top\">Onesie</th>\n",
       "      <th>F</th>\n",
       "      <td>20.909000</td>\n",
       "    </tr>\n",
       "    <tr>\n",
       "      <th>M</th>\n",
       "      <td>20.068000</td>\n",
       "    </tr>\n",
       "    <tr>\n",
       "      <th rowspan=\"2\" valign=\"top\">Preschool Toys</th>\n",
       "      <th>F</th>\n",
       "      <td>21.647143</td>\n",
       "    </tr>\n",
       "    <tr>\n",
       "      <th>M</th>\n",
       "      <td>20.656667</td>\n",
       "    </tr>\n",
       "    <tr>\n",
       "      <th rowspan=\"2\" valign=\"top\">Razor</th>\n",
       "      <th>F</th>\n",
       "      <td>8.730000</td>\n",
       "    </tr>\n",
       "    <tr>\n",
       "      <th>M</th>\n",
       "      <td>7.990000</td>\n",
       "    </tr>\n",
       "    <tr>\n",
       "      <th rowspan=\"2\" valign=\"top\">Razor\\r\\nCartridges</th>\n",
       "      <th>F</th>\n",
       "      <td>17.301111</td>\n",
       "    </tr>\n",
       "    <tr>\n",
       "      <th>M</th>\n",
       "      <td>15.605556</td>\n",
       "    </tr>\n",
       "    <tr>\n",
       "      <th rowspan=\"2\" valign=\"top\">Shaving\\r\\nCream</th>\n",
       "      <th>F</th>\n",
       "      <td>3.728000</td>\n",
       "    </tr>\n",
       "    <tr>\n",
       "      <th>M</th>\n",
       "      <td>3.889000</td>\n",
       "    </tr>\n",
       "    <tr>\n",
       "      <th rowspan=\"2\" valign=\"top\">Shirt</th>\n",
       "      <th>F</th>\n",
       "      <td>29.234000</td>\n",
       "    </tr>\n",
       "    <tr>\n",
       "      <th>M</th>\n",
       "      <td>25.511500</td>\n",
       "    </tr>\n",
       "    <tr>\n",
       "      <th rowspan=\"2\" valign=\"top\">Socks</th>\n",
       "      <th>F</th>\n",
       "      <td>9.980000</td>\n",
       "    </tr>\n",
       "    <tr>\n",
       "      <th>M</th>\n",
       "      <td>9.607895</td>\n",
       "    </tr>\n",
       "    <tr>\n",
       "      <th rowspan=\"2\" valign=\"top\">Sweater</th>\n",
       "      <th>F</th>\n",
       "      <td>63.188095</td>\n",
       "    </tr>\n",
       "    <tr>\n",
       "      <th>M</th>\n",
       "      <td>59.450000</td>\n",
       "    </tr>\n",
       "    <tr>\n",
       "      <th rowspan=\"2\" valign=\"top\">Toddler Shoes</th>\n",
       "      <th>F</th>\n",
       "      <td>28.850000</td>\n",
       "    </tr>\n",
       "    <tr>\n",
       "      <th>M</th>\n",
       "      <td>29.600000</td>\n",
       "    </tr>\n",
       "    <tr>\n",
       "      <th rowspan=\"2\" valign=\"top\">Underwear</th>\n",
       "      <th>F</th>\n",
       "      <td>8.457000</td>\n",
       "    </tr>\n",
       "    <tr>\n",
       "      <th>M</th>\n",
       "      <td>10.898000</td>\n",
       "    </tr>\n",
       "  </tbody>\n",
       "</table>\n",
       "</div>"
      ],
      "text/plain": [
       "                                    Price\n",
       "Item Type               Gender           \n",
       "Arts and Crafts         F       32.790000\n",
       "                        M       30.590000\n",
       "Baby Jeans              F       18.325000\n",
       "                        M       16.765000\n",
       "Baby Shirts             F       12.580000\n",
       "                        M       12.380000\n",
       "Baby Shoes              F       20.690000\n",
       "                        M       20.638889\n",
       "Baby Sweaters           F       25.416667\n",
       "                        M       23.077273\n",
       "Backpacks               F       25.991000\n",
       "                        M       25.790000\n",
       "Bikes & Scooters        F       86.716364\n",
       "                        M       81.899091\n",
       "Body Wash               F        5.697778\n",
       "                        M        5.400000\n",
       "Children's\\r\\nUnderwear F       17.670000\n",
       "                        M       18.170000\n",
       "Children's Jeans        F       26.033333\n",
       "                        M       22.830000\n",
       "Children's Shirts       F       16.077778\n",
       "                        M       13.950000\n",
       "Deodorant               F        4.908000\n",
       "                        M        4.750000\n",
       "Dress Pants             F       75.655000\n",
       "                        M       71.705000\n",
       "Dress Shirt             F       58.107500\n",
       "                        M       51.455000\n",
       "General Toys            F       30.547778\n",
       "                        M       26.492000\n",
       "Hair Care               F        8.385000\n",
       "                        M        5.676250\n",
       "Helmets & Pads          F       25.790000\n",
       "                        M       22.890000\n",
       "Jeans                   F       62.752400\n",
       "                        M       57.092400\n",
       "Lotion                  F        8.250000\n",
       "                        M        7.430000\n",
       "Onesie                  F       20.909000\n",
       "                        M       20.068000\n",
       "Preschool Toys          F       21.647143\n",
       "                        M       20.656667\n",
       "Razor                   F        8.730000\n",
       "                        M        7.990000\n",
       "Razor\\r\\nCartridges     F       17.301111\n",
       "                        M       15.605556\n",
       "Shaving\\r\\nCream        F        3.728000\n",
       "                        M        3.889000\n",
       "Shirt                   F       29.234000\n",
       "                        M       25.511500\n",
       "Socks                   F        9.980000\n",
       "                        M        9.607895\n",
       "Sweater                 F       63.188095\n",
       "                        M       59.450000\n",
       "Toddler Shoes           F       28.850000\n",
       "                        M       29.600000\n",
       "Underwear               F        8.457000\n",
       "                        M       10.898000"
      ]
     },
     "execution_count": 29,
     "metadata": {},
     "output_type": "execute_result"
    }
   ],
   "source": [
    "data.groupby([\"Item Type\",\"Gender\"]).mean()"
   ]
  },
  {
   "cell_type": "markdown",
   "metadata": {
    "colab_type": "text",
    "id": "GDqqXLitcxFz"
   },
   "source": [
    "Junte tudo e analise as médias das categorias por tipo de item e gênero."
   ]
  },
  {
   "cell_type": "code",
   "execution_count": 30,
   "metadata": {
    "colab": {
     "base_uri": "https://localhost:8080/",
     "height": 1866
    },
    "colab_type": "code",
    "executionInfo": {
     "elapsed": 594,
     "status": "ok",
     "timestamp": 1541793187705,
     "user": {
      "displayName": "Beatriz Passanezi",
      "photoUrl": "https://lh6.googleusercontent.com/-_Y2Tk_9I39Y/AAAAAAAAAAI/AAAAAAAAA5w/bDPbYJ4FPyA/s64/photo.jpg",
      "userId": "05632469906862343182"
     },
     "user_tz": 120
    },
    "id": "j11pSu51cwnm",
    "outputId": "62ab0194-dbc0-4653-c02f-02323262bf64"
   },
   "outputs": [
    {
     "data": {
      "text/html": [
       "<div>\n",
       "<style scoped>\n",
       "    .dataframe tbody tr th:only-of-type {\n",
       "        vertical-align: middle;\n",
       "    }\n",
       "\n",
       "    .dataframe tbody tr th {\n",
       "        vertical-align: top;\n",
       "    }\n",
       "\n",
       "    .dataframe thead th {\n",
       "        text-align: right;\n",
       "    }\n",
       "</style>\n",
       "<table border=\"1\" class=\"dataframe\">\n",
       "  <thead>\n",
       "    <tr style=\"text-align: right;\">\n",
       "      <th></th>\n",
       "      <th></th>\n",
       "      <th></th>\n",
       "      <th>Price</th>\n",
       "    </tr>\n",
       "    <tr>\n",
       "      <th>Category</th>\n",
       "      <th>Item Type</th>\n",
       "      <th>Gender</th>\n",
       "      <th></th>\n",
       "    </tr>\n",
       "  </thead>\n",
       "  <tbody>\n",
       "    <tr>\n",
       "      <th rowspan=\"14\" valign=\"top\">Beauty</th>\n",
       "      <th rowspan=\"2\" valign=\"top\">Body Wash</th>\n",
       "      <th>F</th>\n",
       "      <td>5.697778</td>\n",
       "    </tr>\n",
       "    <tr>\n",
       "      <th>M</th>\n",
       "      <td>5.400000</td>\n",
       "    </tr>\n",
       "    <tr>\n",
       "      <th rowspan=\"2\" valign=\"top\">Deodorant</th>\n",
       "      <th>F</th>\n",
       "      <td>4.908000</td>\n",
       "    </tr>\n",
       "    <tr>\n",
       "      <th>M</th>\n",
       "      <td>4.750000</td>\n",
       "    </tr>\n",
       "    <tr>\n",
       "      <th rowspan=\"2\" valign=\"top\">Hair Care</th>\n",
       "      <th>F</th>\n",
       "      <td>8.385000</td>\n",
       "    </tr>\n",
       "    <tr>\n",
       "      <th>M</th>\n",
       "      <td>5.676250</td>\n",
       "    </tr>\n",
       "    <tr>\n",
       "      <th rowspan=\"2\" valign=\"top\">Lotion</th>\n",
       "      <th>F</th>\n",
       "      <td>8.250000</td>\n",
       "    </tr>\n",
       "    <tr>\n",
       "      <th>M</th>\n",
       "      <td>7.430000</td>\n",
       "    </tr>\n",
       "    <tr>\n",
       "      <th rowspan=\"2\" valign=\"top\">Razor</th>\n",
       "      <th>F</th>\n",
       "      <td>8.730000</td>\n",
       "    </tr>\n",
       "    <tr>\n",
       "      <th>M</th>\n",
       "      <td>7.990000</td>\n",
       "    </tr>\n",
       "    <tr>\n",
       "      <th rowspan=\"2\" valign=\"top\">Razor\\r\\nCartridges</th>\n",
       "      <th>F</th>\n",
       "      <td>17.301111</td>\n",
       "    </tr>\n",
       "    <tr>\n",
       "      <th>M</th>\n",
       "      <td>15.605556</td>\n",
       "    </tr>\n",
       "    <tr>\n",
       "      <th rowspan=\"2\" valign=\"top\">Shaving\\r\\nCream</th>\n",
       "      <th>F</th>\n",
       "      <td>3.728000</td>\n",
       "    </tr>\n",
       "    <tr>\n",
       "      <th>M</th>\n",
       "      <td>3.889000</td>\n",
       "    </tr>\n",
       "    <tr>\n",
       "      <th rowspan=\"14\" valign=\"top\">Clothes</th>\n",
       "      <th rowspan=\"2\" valign=\"top\">Dress Pants</th>\n",
       "      <th>F</th>\n",
       "      <td>75.655000</td>\n",
       "    </tr>\n",
       "    <tr>\n",
       "      <th>M</th>\n",
       "      <td>71.705000</td>\n",
       "    </tr>\n",
       "    <tr>\n",
       "      <th rowspan=\"2\" valign=\"top\">Dress Shirt</th>\n",
       "      <th>F</th>\n",
       "      <td>58.107500</td>\n",
       "    </tr>\n",
       "    <tr>\n",
       "      <th>M</th>\n",
       "      <td>51.455000</td>\n",
       "    </tr>\n",
       "    <tr>\n",
       "      <th rowspan=\"2\" valign=\"top\">Jeans</th>\n",
       "      <th>F</th>\n",
       "      <td>62.752400</td>\n",
       "    </tr>\n",
       "    <tr>\n",
       "      <th>M</th>\n",
       "      <td>57.092400</td>\n",
       "    </tr>\n",
       "    <tr>\n",
       "      <th rowspan=\"2\" valign=\"top\">Shirt</th>\n",
       "      <th>F</th>\n",
       "      <td>29.234000</td>\n",
       "    </tr>\n",
       "    <tr>\n",
       "      <th>M</th>\n",
       "      <td>25.511500</td>\n",
       "    </tr>\n",
       "    <tr>\n",
       "      <th rowspan=\"2\" valign=\"top\">Socks</th>\n",
       "      <th>F</th>\n",
       "      <td>9.980000</td>\n",
       "    </tr>\n",
       "    <tr>\n",
       "      <th>M</th>\n",
       "      <td>9.607895</td>\n",
       "    </tr>\n",
       "    <tr>\n",
       "      <th rowspan=\"2\" valign=\"top\">Sweater</th>\n",
       "      <th>F</th>\n",
       "      <td>63.188095</td>\n",
       "    </tr>\n",
       "    <tr>\n",
       "      <th>M</th>\n",
       "      <td>59.450000</td>\n",
       "    </tr>\n",
       "    <tr>\n",
       "      <th rowspan=\"2\" valign=\"top\">Underwear</th>\n",
       "      <th>F</th>\n",
       "      <td>8.457000</td>\n",
       "    </tr>\n",
       "    <tr>\n",
       "      <th>M</th>\n",
       "      <td>10.898000</td>\n",
       "    </tr>\n",
       "    <tr>\n",
       "      <th rowspan=\"30\" valign=\"top\">Kids</th>\n",
       "      <th rowspan=\"2\" valign=\"top\">Arts and Crafts</th>\n",
       "      <th>F</th>\n",
       "      <td>32.790000</td>\n",
       "    </tr>\n",
       "    <tr>\n",
       "      <th>M</th>\n",
       "      <td>30.590000</td>\n",
       "    </tr>\n",
       "    <tr>\n",
       "      <th rowspan=\"2\" valign=\"top\">Baby Jeans</th>\n",
       "      <th>F</th>\n",
       "      <td>18.325000</td>\n",
       "    </tr>\n",
       "    <tr>\n",
       "      <th>M</th>\n",
       "      <td>16.765000</td>\n",
       "    </tr>\n",
       "    <tr>\n",
       "      <th rowspan=\"2\" valign=\"top\">Baby Shirts</th>\n",
       "      <th>F</th>\n",
       "      <td>12.580000</td>\n",
       "    </tr>\n",
       "    <tr>\n",
       "      <th>M</th>\n",
       "      <td>12.380000</td>\n",
       "    </tr>\n",
       "    <tr>\n",
       "      <th rowspan=\"2\" valign=\"top\">Baby Shoes</th>\n",
       "      <th>F</th>\n",
       "      <td>20.690000</td>\n",
       "    </tr>\n",
       "    <tr>\n",
       "      <th>M</th>\n",
       "      <td>20.638889</td>\n",
       "    </tr>\n",
       "    <tr>\n",
       "      <th rowspan=\"2\" valign=\"top\">Baby Sweaters</th>\n",
       "      <th>F</th>\n",
       "      <td>25.416667</td>\n",
       "    </tr>\n",
       "    <tr>\n",
       "      <th>M</th>\n",
       "      <td>23.077273</td>\n",
       "    </tr>\n",
       "    <tr>\n",
       "      <th rowspan=\"2\" valign=\"top\">Backpacks</th>\n",
       "      <th>F</th>\n",
       "      <td>25.991000</td>\n",
       "    </tr>\n",
       "    <tr>\n",
       "      <th>M</th>\n",
       "      <td>25.790000</td>\n",
       "    </tr>\n",
       "    <tr>\n",
       "      <th rowspan=\"2\" valign=\"top\">Bikes &amp; Scooters</th>\n",
       "      <th>F</th>\n",
       "      <td>86.716364</td>\n",
       "    </tr>\n",
       "    <tr>\n",
       "      <th>M</th>\n",
       "      <td>81.899091</td>\n",
       "    </tr>\n",
       "    <tr>\n",
       "      <th rowspan=\"2\" valign=\"top\">Children's\\r\\nUnderwear</th>\n",
       "      <th>F</th>\n",
       "      <td>17.670000</td>\n",
       "    </tr>\n",
       "    <tr>\n",
       "      <th>M</th>\n",
       "      <td>18.170000</td>\n",
       "    </tr>\n",
       "    <tr>\n",
       "      <th rowspan=\"2\" valign=\"top\">Children's Jeans</th>\n",
       "      <th>F</th>\n",
       "      <td>26.033333</td>\n",
       "    </tr>\n",
       "    <tr>\n",
       "      <th>M</th>\n",
       "      <td>22.830000</td>\n",
       "    </tr>\n",
       "    <tr>\n",
       "      <th rowspan=\"2\" valign=\"top\">Children's Shirts</th>\n",
       "      <th>F</th>\n",
       "      <td>16.077778</td>\n",
       "    </tr>\n",
       "    <tr>\n",
       "      <th>M</th>\n",
       "      <td>13.950000</td>\n",
       "    </tr>\n",
       "    <tr>\n",
       "      <th rowspan=\"2\" valign=\"top\">General Toys</th>\n",
       "      <th>F</th>\n",
       "      <td>30.547778</td>\n",
       "    </tr>\n",
       "    <tr>\n",
       "      <th>M</th>\n",
       "      <td>26.492000</td>\n",
       "    </tr>\n",
       "    <tr>\n",
       "      <th rowspan=\"2\" valign=\"top\">Helmets &amp; Pads</th>\n",
       "      <th>F</th>\n",
       "      <td>25.790000</td>\n",
       "    </tr>\n",
       "    <tr>\n",
       "      <th>M</th>\n",
       "      <td>22.890000</td>\n",
       "    </tr>\n",
       "    <tr>\n",
       "      <th rowspan=\"2\" valign=\"top\">Onesie</th>\n",
       "      <th>F</th>\n",
       "      <td>20.909000</td>\n",
       "    </tr>\n",
       "    <tr>\n",
       "      <th>M</th>\n",
       "      <td>20.068000</td>\n",
       "    </tr>\n",
       "    <tr>\n",
       "      <th rowspan=\"2\" valign=\"top\">Preschool Toys</th>\n",
       "      <th>F</th>\n",
       "      <td>21.647143</td>\n",
       "    </tr>\n",
       "    <tr>\n",
       "      <th>M</th>\n",
       "      <td>20.656667</td>\n",
       "    </tr>\n",
       "    <tr>\n",
       "      <th rowspan=\"2\" valign=\"top\">Toddler Shoes</th>\n",
       "      <th>F</th>\n",
       "      <td>28.850000</td>\n",
       "    </tr>\n",
       "    <tr>\n",
       "      <th>M</th>\n",
       "      <td>29.600000</td>\n",
       "    </tr>\n",
       "  </tbody>\n",
       "</table>\n",
       "</div>"
      ],
      "text/plain": [
       "                                             Price\n",
       "Category Item Type               Gender           \n",
       "Beauty   Body Wash               F        5.697778\n",
       "                                 M        5.400000\n",
       "         Deodorant               F        4.908000\n",
       "                                 M        4.750000\n",
       "         Hair Care               F        8.385000\n",
       "                                 M        5.676250\n",
       "         Lotion                  F        8.250000\n",
       "                                 M        7.430000\n",
       "         Razor                   F        8.730000\n",
       "                                 M        7.990000\n",
       "         Razor\\r\\nCartridges     F       17.301111\n",
       "                                 M       15.605556\n",
       "         Shaving\\r\\nCream        F        3.728000\n",
       "                                 M        3.889000\n",
       "Clothes  Dress Pants             F       75.655000\n",
       "                                 M       71.705000\n",
       "         Dress Shirt             F       58.107500\n",
       "                                 M       51.455000\n",
       "         Jeans                   F       62.752400\n",
       "                                 M       57.092400\n",
       "         Shirt                   F       29.234000\n",
       "                                 M       25.511500\n",
       "         Socks                   F        9.980000\n",
       "                                 M        9.607895\n",
       "         Sweater                 F       63.188095\n",
       "                                 M       59.450000\n",
       "         Underwear               F        8.457000\n",
       "                                 M       10.898000\n",
       "Kids     Arts and Crafts         F       32.790000\n",
       "                                 M       30.590000\n",
       "         Baby Jeans              F       18.325000\n",
       "                                 M       16.765000\n",
       "         Baby Shirts             F       12.580000\n",
       "                                 M       12.380000\n",
       "         Baby Shoes              F       20.690000\n",
       "                                 M       20.638889\n",
       "         Baby Sweaters           F       25.416667\n",
       "                                 M       23.077273\n",
       "         Backpacks               F       25.991000\n",
       "                                 M       25.790000\n",
       "         Bikes & Scooters        F       86.716364\n",
       "                                 M       81.899091\n",
       "         Children's\\r\\nUnderwear F       17.670000\n",
       "                                 M       18.170000\n",
       "         Children's Jeans        F       26.033333\n",
       "                                 M       22.830000\n",
       "         Children's Shirts       F       16.077778\n",
       "                                 M       13.950000\n",
       "         General Toys            F       30.547778\n",
       "                                 M       26.492000\n",
       "         Helmets & Pads          F       25.790000\n",
       "                                 M       22.890000\n",
       "         Onesie                  F       20.909000\n",
       "                                 M       20.068000\n",
       "         Preschool Toys          F       21.647143\n",
       "                                 M       20.656667\n",
       "         Toddler Shoes           F       28.850000\n",
       "                                 M       29.600000"
      ]
     },
     "execution_count": 30,
     "metadata": {},
     "output_type": "execute_result"
    }
   ],
   "source": [
    "data.groupby([\"Category\", \"Item Type\",\"Gender\"]).mean()"
   ]
  },
  {
   "cell_type": "code",
   "execution_count": null,
   "metadata": {},
   "outputs": [],
   "source": []
  }
 ],
 "metadata": {
  "colab": {
   "collapsed_sections": [],
   "name": "Exercícios_gabarito.ipynb",
   "provenance": [],
   "toc_visible": true,
   "version": "0.3.2"
  },
  "kernelspec": {
   "display_name": "Python 3",
   "language": "python",
   "name": "python3"
  },
  "language_info": {
   "codemirror_mode": {
    "name": "ipython",
    "version": 3
   },
   "file_extension": ".py",
   "mimetype": "text/x-python",
   "name": "python",
   "nbconvert_exporter": "python",
   "pygments_lexer": "ipython3",
   "version": "3.7.1"
  }
 },
 "nbformat": 4,
 "nbformat_minor": 1
}
